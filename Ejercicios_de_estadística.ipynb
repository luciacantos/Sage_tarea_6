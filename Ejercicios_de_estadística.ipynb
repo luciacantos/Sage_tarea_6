{
 "cells": [
  {
   "cell_type": "markdown",
   "metadata": {},
   "source": [
    "1. Genera una lista de 1000 enteros aleatorios en el ntervalo [-100,100] y calcula su media:"
   ]
  },
  {
   "cell_type": "code",
   "execution_count": 56,
   "metadata": {},
   "outputs": [
    {
     "name": "stdout",
     "output_type": "stream",
     "text": [
      "Lista de 100 valores aleatorios: [-88, -60, 84, -30, -97, 91, -16, -28, -54, -45, 24, -68, -97, -14, 46, -27, 29, 100, -4, -39, -6, -81, -99, 32, -77, 39, -15, -26, -84, 76, -85, 25, -68, -64, -79, -31, 32, 42, 64, -94, 10, 30, 35, 41, 46, 46, 26, -58, -38, 77, 31, -33, 29, 48, 85, 51, 98, -34, 68, 66, -98, -98, -98, -42, -68, 12, -88, 96, -47, -88, 67, 42, -98, 16, -11, 8, 96, -15, -57, 23, -34, -34, 97, 88, -20, -47, 73, -100, -5, -72, 24, 99, -39, 35, -62, 12, 63, -80, -25, -46]\n",
      "La media de los valores es: -689/100\n"
     ]
    }
   ],
   "source": [
    "valor = [randint(-100,100) for i in range(100)]\n",
    "media = mean(valor)\n",
    "print(\"Lista de 100 valores aleatorios:\",valor)\n",
    "print(\"La media de los valores es:\",media)"
   ]
  },
  {
   "cell_type": "markdown",
   "metadata": {},
   "source": [
    "2. Las alturas de ocho estudiantes, medidas en pulgadas, son 71, 73, 59, 62, 65, 61, 73, 61. Calcula la media, la mediana y la moda de estas alturas:"
   ]
  },
  {
   "cell_type": "code",
   "execution_count": 46,
   "metadata": {},
   "outputs": [
    {
     "name": "stdout",
     "output_type": "stream",
     "text": [
      "Media: 65.625 \n",
      "Mediana: 63.5 \n",
      "Moda: [61, 73]\n"
     ]
    }
   ],
   "source": [
    "altura = [71,73,59,62,65,61,73,61]\n",
    "# media\n",
    "media = float(mean(altura))\n",
    "# mediana\n",
    "mediana =float(median(altura)) \n",
    "# moda\n",
    "moda = mode(altura)\n",
    "\n",
    "print(\"Media:\",media,'\\n'\"Mediana:\",mediana, '\\n'\"Moda:\",moda)"
   ]
  },
  {
   "cell_type": "markdown",
   "metadata": {},
   "source": [
    "3. Usando los mismos datos, calcula la desviación típica y la varianza de las alturas de la muestra:"
   ]
  },
  {
   "cell_type": "code",
   "execution_count": 45,
   "metadata": {
    "scrolled": true
   },
   "outputs": [
    {
     "name": "stdout",
     "output_type": "stream",
     "text": [
      "Desviación típica: 5.829420456369815 \n",
      "Varianza: 33.982142857142854\n"
     ]
    }
   ],
   "source": [
    "altura = [71,73,59,62,65,61,73,61]\n",
    "# desviación típica\n",
    "desv_tip = float(std(altura))\n",
    "# varianza\n",
    "varianza = float(variance(altura))\n",
    "\n",
    "print(\"Desviación típica:\",desv_tip,'\\n'\"Varianza:\",varianza)"
   ]
  },
  {
   "cell_type": "markdown",
   "metadata": {},
   "source": [
    "4. Calcula el rango de la muestra de alturas anterior:"
   ]
  },
  {
   "cell_type": "code",
   "execution_count": 55,
   "metadata": {},
   "outputs": [
    {
     "name": "stdout",
     "output_type": "stream",
     "text": [
      "Rango: 14\n"
     ]
    }
   ],
   "source": [
    "altura = [71,73,59,62,65,61,73,61]\n",
    "rango = max(altura) - min(altura) #el valor maximo de la lista menos el menor\n",
    "print(\"Rango:\",rango)"
   ]
  }
 ],
 "metadata": {
  "kernelspec": {
   "display_name": "SageMath 9.3",
   "language": "sage",
   "name": "sagemath"
  },
  "language_info": {
   "codemirror_mode": {
    "name": "ipython",
    "version": 3
   },
   "file_extension": ".py",
   "mimetype": "text/x-python",
   "name": "python",
   "nbconvert_exporter": "python",
   "pygments_lexer": "ipython3",
   "version": "3.7.10"
  }
 },
 "nbformat": 4,
 "nbformat_minor": 4
}
