{
 "cells": [
  {
   "cell_type": "markdown",
   "metadata": {},
   "source": [
    "1. Genera una lista de 1000 enteros aleatorios en el ntervalo [-100,100] y calcula su media:"
   ]
  },
  {
   "cell_type": "code",
   "execution_count": 58,
   "metadata": {},
   "outputs": [
    {
     "name": "stdout",
     "output_type": "stream",
     "text": [
      "Lista de 100 valores aleatorios:  [77, -10, 6, 28, -2, 33, -43, -56, 76, -28, -69, -100, 71, -1, 49, 1, 94, -26, -43, -25, 76, 88, 82, 81, -22, 61, 94, -8, 91, -18, -99, -48, -42, 77, 44, -14, -40, 24, -68, -36, -58, -50, 76, 99, -56, 77, 78, 11, -57, -12, -42, 59, -4, 23, -14, 50, 13, -84, -14, 66, 74, 55, -92, -73, -43, 61, -24, -99, -47, -34, -45, 87, -57, 50, -33, 8, 6, -32, 62, -91, 4, 82, 34, 58, 40, -95, -69, 94, -69, -87, 5, -44, 55, -65, 50, -26, 5, 15, -29, 34]\n",
      "La media de los valores es: 2.41\n"
     ]
    }
   ],
   "source": [
    "valor = [randint(-100,100) for i in range(100)]\n",
    "media = float(mean(valor))\n",
    "print(\"Lista de 100 valores aleatorios: \",valor)\n",
    "print(\"La media de los valores es:\",media)"
   ]
  },
  {
   "cell_type": "markdown",
   "metadata": {},
   "source": [
    "2. Las alturas de ocho estudiantes, medidas en pulgadas, son 71, 73, 59, 62, 65, 61, 73, 61. Calcula la media, la mediana y la moda de estas alturas:"
   ]
  },
  {
   "cell_type": "code",
   "execution_count": 46,
   "metadata": {},
   "outputs": [
    {
     "name": "stdout",
     "output_type": "stream",
     "text": [
      "Media: 65.625 \n",
      "Mediana: 63.5 \n",
      "Moda: [61, 73]\n"
     ]
    }
   ],
   "source": [
    "altura = [71,73,59,62,65,61,73,61]\n",
    "# media\n",
    "media = float(mean(altura))\n",
    "# mediana\n",
    "mediana =float(median(altura)) \n",
    "# moda\n",
    "moda = mode(altura)\n",
    "\n",
    "print(\"Media:\",media,'\\n'\"Mediana:\",mediana, '\\n'\"Moda:\",moda)"
   ]
  },
  {
   "cell_type": "markdown",
   "metadata": {},
   "source": [
    "3. Usando los mismos datos, calcula la desviación típica y la varianza de las alturas de la muestra:"
   ]
  },
  {
   "cell_type": "code",
   "execution_count": 45,
   "metadata": {
    "scrolled": true
   },
   "outputs": [
    {
     "name": "stdout",
     "output_type": "stream",
     "text": [
      "Desviación típica: 5.829420456369815 \n",
      "Varianza: 33.982142857142854\n"
     ]
    }
   ],
   "source": [
    "altura = [71,73,59,62,65,61,73,61]\n",
    "# desviación típica\n",
    "desv_tip = float(std(altura))\n",
    "# varianza\n",
    "varianza = float(variance(altura))\n",
    "\n",
    "print(\"Desviación típica:\",desv_tip,'\\n'\"Varianza:\",varianza)"
   ]
  },
  {
   "cell_type": "markdown",
   "metadata": {},
   "source": [
    "4. Calcula el rango de la muestra de alturas anterior:"
   ]
  },
  {
   "cell_type": "code",
   "execution_count": 55,
   "metadata": {},
   "outputs": [
    {
     "name": "stdout",
     "output_type": "stream",
     "text": [
      "Rango: 14\n"
     ]
    }
   ],
   "source": [
    "altura = [71,73,59,62,65,61,73,61]\n",
    "rango = max(altura) - min(altura) #el valor maximo de la lista menos el menor\n",
    "print(\"Rango:\",rango)"
   ]
  }
 ],
 "metadata": {
  "kernelspec": {
   "display_name": "SageMath 9.3",
   "language": "sage",
   "name": "sagemath"
  },
  "language_info": {
   "codemirror_mode": {
    "name": "ipython",
    "version": 3
   },
   "file_extension": ".py",
   "mimetype": "text/x-python",
   "name": "python",
   "nbconvert_exporter": "python",
   "pygments_lexer": "ipython3",
   "version": "3.7.10"
  }
 },
 "nbformat": 4,
 "nbformat_minor": 4
}
